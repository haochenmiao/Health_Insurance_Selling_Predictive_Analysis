{
 "cells": [
  {
   "cell_type": "markdown",
   "id": "17ebb1cd",
   "metadata": {},
   "source": [
    "# Health Insurance Predictive Analysis"
   ]
  },
  {
   "cell_type": "markdown",
   "id": "f77ca813",
   "metadata": {},
   "source": [
    "## Explorative Data Analysis (EDA)"
   ]
  },
  {
   "cell_type": "markdown",
   "id": "79dc482d",
   "metadata": {},
   "source": [
    "In our project, \"Health Insurance Selling Prediction,\" this task involves the initial step of importing and exploring the health insurance dataset from the 'insurance_dataset.csv' file. This foundational step is essential as it allows us to understand the structure and content of the dataset. By loading and examining the data, we set the groundwork for subsequent analysis, aiming to predict cross-selling opportunities for health insurance. This exploration is crucial for understanding the variables and patterns in the data to make informed decisions throughout the project."
   ]
  },
  {
   "cell_type": "code",
   "execution_count": 1,
   "id": "e5f14bd0",
   "metadata": {},
   "outputs": [
    {
     "data": {
      "text/html": [
       "<div>\n",
       "<style scoped>\n",
       "    .dataframe tbody tr th:only-of-type {\n",
       "        vertical-align: middle;\n",
       "    }\n",
       "\n",
       "    .dataframe tbody tr th {\n",
       "        vertical-align: top;\n",
       "    }\n",
       "\n",
       "    .dataframe thead th {\n",
       "        text-align: right;\n",
       "    }\n",
       "</style>\n",
       "<table border=\"1\" class=\"dataframe\">\n",
       "  <thead>\n",
       "    <tr style=\"text-align: right;\">\n",
       "      <th></th>\n",
       "      <th>id</th>\n",
       "      <th>Gender</th>\n",
       "      <th>Age</th>\n",
       "      <th>Driving_License</th>\n",
       "      <th>Region_Code</th>\n",
       "      <th>Previously_Insured</th>\n",
       "      <th>Vehicle_Age</th>\n",
       "      <th>Vehicle_Damage</th>\n",
       "      <th>Annual_Premium</th>\n",
       "      <th>Policy_Sales_Channel</th>\n",
       "      <th>Vintage</th>\n",
       "      <th>Response</th>\n",
       "    </tr>\n",
       "  </thead>\n",
       "  <tbody>\n",
       "    <tr>\n",
       "      <th>0</th>\n",
       "      <td>46048</td>\n",
       "      <td>Male</td>\n",
       "      <td>22</td>\n",
       "      <td>1</td>\n",
       "      <td>26.0</td>\n",
       "      <td>1</td>\n",
       "      <td>&lt; 1 Year</td>\n",
       "      <td>No</td>\n",
       "      <td>27460.0</td>\n",
       "      <td>152.0</td>\n",
       "      <td>172</td>\n",
       "      <td>0</td>\n",
       "    </tr>\n",
       "    <tr>\n",
       "      <th>1</th>\n",
       "      <td>228395</td>\n",
       "      <td>Male</td>\n",
       "      <td>29</td>\n",
       "      <td>1</td>\n",
       "      <td>15.0</td>\n",
       "      <td>0</td>\n",
       "      <td>&lt; 1 Year</td>\n",
       "      <td>Yes</td>\n",
       "      <td>28982.0</td>\n",
       "      <td>152.0</td>\n",
       "      <td>207</td>\n",
       "      <td>0</td>\n",
       "    </tr>\n",
       "    <tr>\n",
       "      <th>2</th>\n",
       "      <td>170449</td>\n",
       "      <td>Male</td>\n",
       "      <td>25</td>\n",
       "      <td>1</td>\n",
       "      <td>2.0</td>\n",
       "      <td>0</td>\n",
       "      <td>&lt; 1 Year</td>\n",
       "      <td>No</td>\n",
       "      <td>25067.0</td>\n",
       "      <td>152.0</td>\n",
       "      <td>228</td>\n",
       "      <td>0</td>\n",
       "    </tr>\n",
       "    <tr>\n",
       "      <th>3</th>\n",
       "      <td>92900</td>\n",
       "      <td>Male</td>\n",
       "      <td>34</td>\n",
       "      <td>1</td>\n",
       "      <td>47.0</td>\n",
       "      <td>1</td>\n",
       "      <td>1-2 Year</td>\n",
       "      <td>Yes</td>\n",
       "      <td>2630.0</td>\n",
       "      <td>156.0</td>\n",
       "      <td>193</td>\n",
       "      <td>0</td>\n",
       "    </tr>\n",
       "    <tr>\n",
       "      <th>4</th>\n",
       "      <td>257877</td>\n",
       "      <td>Male</td>\n",
       "      <td>35</td>\n",
       "      <td>1</td>\n",
       "      <td>28.0</td>\n",
       "      <td>0</td>\n",
       "      <td>1-2 Year</td>\n",
       "      <td>Yes</td>\n",
       "      <td>40499.0</td>\n",
       "      <td>124.0</td>\n",
       "      <td>77</td>\n",
       "      <td>1</td>\n",
       "    </tr>\n",
       "    <tr>\n",
       "      <th>...</th>\n",
       "      <td>...</td>\n",
       "      <td>...</td>\n",
       "      <td>...</td>\n",
       "      <td>...</td>\n",
       "      <td>...</td>\n",
       "      <td>...</td>\n",
       "      <td>...</td>\n",
       "      <td>...</td>\n",
       "      <td>...</td>\n",
       "      <td>...</td>\n",
       "      <td>...</td>\n",
       "      <td>...</td>\n",
       "    </tr>\n",
       "    <tr>\n",
       "      <th>49995</th>\n",
       "      <td>193914</td>\n",
       "      <td>Female</td>\n",
       "      <td>23</td>\n",
       "      <td>1</td>\n",
       "      <td>43.0</td>\n",
       "      <td>1</td>\n",
       "      <td>&lt; 1 Year</td>\n",
       "      <td>No</td>\n",
       "      <td>34493.0</td>\n",
       "      <td>152.0</td>\n",
       "      <td>156</td>\n",
       "      <td>0</td>\n",
       "    </tr>\n",
       "    <tr>\n",
       "      <th>49996</th>\n",
       "      <td>251014</td>\n",
       "      <td>Male</td>\n",
       "      <td>25</td>\n",
       "      <td>1</td>\n",
       "      <td>45.0</td>\n",
       "      <td>0</td>\n",
       "      <td>&lt; 1 Year</td>\n",
       "      <td>Yes</td>\n",
       "      <td>23626.0</td>\n",
       "      <td>152.0</td>\n",
       "      <td>250</td>\n",
       "      <td>1</td>\n",
       "    </tr>\n",
       "    <tr>\n",
       "      <th>49997</th>\n",
       "      <td>176901</td>\n",
       "      <td>Female</td>\n",
       "      <td>35</td>\n",
       "      <td>1</td>\n",
       "      <td>13.0</td>\n",
       "      <td>0</td>\n",
       "      <td>1-2 Year</td>\n",
       "      <td>Yes</td>\n",
       "      <td>30072.0</td>\n",
       "      <td>156.0</td>\n",
       "      <td>256</td>\n",
       "      <td>0</td>\n",
       "    </tr>\n",
       "    <tr>\n",
       "      <th>49998</th>\n",
       "      <td>375871</td>\n",
       "      <td>Male</td>\n",
       "      <td>52</td>\n",
       "      <td>1</td>\n",
       "      <td>14.0</td>\n",
       "      <td>0</td>\n",
       "      <td>1-2 Year</td>\n",
       "      <td>Yes</td>\n",
       "      <td>23863.0</td>\n",
       "      <td>26.0</td>\n",
       "      <td>201</td>\n",
       "      <td>0</td>\n",
       "    </tr>\n",
       "    <tr>\n",
       "      <th>49999</th>\n",
       "      <td>266130</td>\n",
       "      <td>Male</td>\n",
       "      <td>37</td>\n",
       "      <td>1</td>\n",
       "      <td>33.0</td>\n",
       "      <td>0</td>\n",
       "      <td>1-2 Year</td>\n",
       "      <td>Yes</td>\n",
       "      <td>35745.0</td>\n",
       "      <td>124.0</td>\n",
       "      <td>179</td>\n",
       "      <td>0</td>\n",
       "    </tr>\n",
       "  </tbody>\n",
       "</table>\n",
       "<p>50000 rows × 12 columns</p>\n",
       "</div>"
      ],
      "text/plain": [
       "           id  Gender  Age  Driving_License  Region_Code  Previously_Insured  \\\n",
       "0       46048    Male   22                1         26.0                   1   \n",
       "1      228395    Male   29                1         15.0                   0   \n",
       "2      170449    Male   25                1          2.0                   0   \n",
       "3       92900    Male   34                1         47.0                   1   \n",
       "4      257877    Male   35                1         28.0                   0   \n",
       "...       ...     ...  ...              ...          ...                 ...   \n",
       "49995  193914  Female   23                1         43.0                   1   \n",
       "49996  251014    Male   25                1         45.0                   0   \n",
       "49997  176901  Female   35                1         13.0                   0   \n",
       "49998  375871    Male   52                1         14.0                   0   \n",
       "49999  266130    Male   37                1         33.0                   0   \n",
       "\n",
       "      Vehicle_Age Vehicle_Damage  Annual_Premium  Policy_Sales_Channel  \\\n",
       "0        < 1 Year             No         27460.0                 152.0   \n",
       "1        < 1 Year            Yes         28982.0                 152.0   \n",
       "2        < 1 Year             No         25067.0                 152.0   \n",
       "3        1-2 Year            Yes          2630.0                 156.0   \n",
       "4        1-2 Year            Yes         40499.0                 124.0   \n",
       "...           ...            ...             ...                   ...   \n",
       "49995    < 1 Year             No         34493.0                 152.0   \n",
       "49996    < 1 Year            Yes         23626.0                 152.0   \n",
       "49997    1-2 Year            Yes         30072.0                 156.0   \n",
       "49998    1-2 Year            Yes         23863.0                  26.0   \n",
       "49999    1-2 Year            Yes         35745.0                 124.0   \n",
       "\n",
       "       Vintage  Response  \n",
       "0          172         0  \n",
       "1          207         0  \n",
       "2          228         0  \n",
       "3          193         0  \n",
       "4           77         1  \n",
       "...        ...       ...  \n",
       "49995      156         0  \n",
       "49996      250         1  \n",
       "49997      256         0  \n",
       "49998      201         0  \n",
       "49999      179         0  \n",
       "\n",
       "[50000 rows x 12 columns]"
      ]
     },
     "execution_count": 1,
     "metadata": {},
     "output_type": "execute_result"
    }
   ],
   "source": [
    "#--- Import Pandas ---\n",
    "import pandas as pd\n",
    "#--- Read in dataset ('insurance_dataset.csv') ----\n",
    "df = pd.read_csv('./insurance_dataset.csv')\n",
    "\n",
    "#--- Inspect data ---\n",
    "df"
   ]
  },
  {
   "cell_type": "markdown",
   "id": "67201d0c",
   "metadata": {},
   "source": [
    "## Identifying Null Values"
   ]
  },
  {
   "cell_type": "markdown",
   "id": "9702c782",
   "metadata": {},
   "source": [
    "In this task, we focus on identifying and quantifying null values within the health insurance dataset ('df'). The 'sumofnull' calculation is crucial in assessing the presence of missing data across various features. Recognizing and quantifying these null values is vital for data cleaning and preparation. This analysis is essential for ensuring the dataset's integrity and quality, allowing us to handle missing values appropriately for accurate predictions in the project."
   ]
  },
  {
   "cell_type": "code",
   "execution_count": 2,
   "id": "1ba77c09",
   "metadata": {},
   "outputs": [
    {
     "data": {
      "text/plain": [
       "id                      0\n",
       "Gender                  0\n",
       "Age                     0\n",
       "Driving_License         0\n",
       "Region_Code             0\n",
       "Previously_Insured      0\n",
       "Vehicle_Age             0\n",
       "Vehicle_Damage          0\n",
       "Annual_Premium          0\n",
       "Policy_Sales_Channel    0\n",
       "Vintage                 0\n",
       "Response                0\n",
       "dtype: int64"
      ]
     },
     "execution_count": 2,
     "metadata": {},
     "output_type": "execute_result"
    }
   ],
   "source": [
    "\n",
    "sumofnull = df.isnull().sum()\n",
    "\n",
    "#--- Inspect data ---\n",
    "sumofnull"
   ]
  },
  {
   "cell_type": "markdown",
   "id": "ee840685",
   "metadata": {},
   "source": [
    "## Analyzing Data Types"
   ]
  },
  {
   "cell_type": "markdown",
   "id": "fccca6ab",
   "metadata": {},
   "source": [
    "This task involves analyzing the data types present in the 'df' dataset. The 'dtype' calculation helps us understand the nature of each column in the dataset, whether it's numerical, categorical, or of another data type. Knowing the data types is crucial for further data preprocessing, feature engineering, and model building in the project. Understanding the nature of the data types will aid in appropriate transformations and manipulations necessary for accurate predictions in health insurance cross-selling."
   ]
  },
  {
   "cell_type": "code",
   "execution_count": 3,
   "id": "e89c08bc",
   "metadata": {},
   "outputs": [
    {
     "data": {
      "text/plain": [
       "id                        int64\n",
       "Gender                   object\n",
       "Age                       int64\n",
       "Driving_License           int64\n",
       "Region_Code             float64\n",
       "Previously_Insured        int64\n",
       "Vehicle_Age              object\n",
       "Vehicle_Damage           object\n",
       "Annual_Premium          float64\n",
       "Policy_Sales_Channel    float64\n",
       "Vintage                   int64\n",
       "Response                  int64\n",
       "dtype: object"
      ]
     },
     "execution_count": 3,
     "metadata": {},
     "output_type": "execute_result"
    }
   ],
   "source": [
    "dtype = df.dtypes\n",
    "\n",
    "#--- Inspect data ---\n",
    "dtype"
   ]
  },
  {
   "cell_type": "markdown",
   "id": "c3c80513",
   "metadata": {},
   "source": [
    "## Statistical Description\n",
    "\n",
    "In this task, the 'describe' function is applied to the 'df' dataset to generate a statistical summary. This summary provides key statistical measures for numerical columns, such as count, mean, standard deviation, minimum, maximum, and quartile values. This analysis is crucial for gaining insights into the central tendencies and distribution of numerical features. Understanding these statistics aids in comprehending the dataset's characteristics, a fundamental step for informed feature selection and model building in predicting health insurance cross-selling opportunities."
   ]
  },
  {
   "cell_type": "code",
   "execution_count": 4,
   "id": "294d91ea",
   "metadata": {},
   "outputs": [
    {
     "data": {
      "text/plain": [
       "<bound method NDFrame.describe of            id  Gender  Age  Driving_License  Region_Code  Previously_Insured  \\\n",
       "0       46048    Male   22                1         26.0                   1   \n",
       "1      228395    Male   29                1         15.0                   0   \n",
       "2      170449    Male   25                1          2.0                   0   \n",
       "3       92900    Male   34                1         47.0                   1   \n",
       "4      257877    Male   35                1         28.0                   0   \n",
       "...       ...     ...  ...              ...          ...                 ...   \n",
       "49995  193914  Female   23                1         43.0                   1   \n",
       "49996  251014    Male   25                1         45.0                   0   \n",
       "49997  176901  Female   35                1         13.0                   0   \n",
       "49998  375871    Male   52                1         14.0                   0   \n",
       "49999  266130    Male   37                1         33.0                   0   \n",
       "\n",
       "      Vehicle_Age Vehicle_Damage  Annual_Premium  Policy_Sales_Channel  \\\n",
       "0        < 1 Year             No         27460.0                 152.0   \n",
       "1        < 1 Year            Yes         28982.0                 152.0   \n",
       "2        < 1 Year             No         25067.0                 152.0   \n",
       "3        1-2 Year            Yes          2630.0                 156.0   \n",
       "4        1-2 Year            Yes         40499.0                 124.0   \n",
       "...           ...            ...             ...                   ...   \n",
       "49995    < 1 Year             No         34493.0                 152.0   \n",
       "49996    < 1 Year            Yes         23626.0                 152.0   \n",
       "49997    1-2 Year            Yes         30072.0                 156.0   \n",
       "49998    1-2 Year            Yes         23863.0                  26.0   \n",
       "49999    1-2 Year            Yes         35745.0                 124.0   \n",
       "\n",
       "       Vintage  Response  \n",
       "0          172         0  \n",
       "1          207         0  \n",
       "2          228         0  \n",
       "3          193         0  \n",
       "4           77         1  \n",
       "...        ...       ...  \n",
       "49995      156         0  \n",
       "49996      250         1  \n",
       "49997      256         0  \n",
       "49998      201         0  \n",
       "49999      179         0  \n",
       "\n",
       "[50000 rows x 12 columns]>"
      ]
     },
     "execution_count": 4,
     "metadata": {},
     "output_type": "execute_result"
    }
   ],
   "source": [
    "describe = df.describe\n",
    "\n",
    "#--- Inspect data ---\n",
    "describe"
   ]
  },
  {
   "cell_type": "markdown",
   "id": "1d68f19e",
   "metadata": {},
   "source": [
    "## Analyzing Response Class Distribution\n",
    "In this task, the 'value_count' calculation is applied to the 'Response' column within the dataset. This operation generates a count of unique values within the 'Response' column, displaying the distribution of classes (e.g., positive responses vs. negative responses). Understanding this distribution is essential for ascertaining the balance or imbalance in the target variable, which directly influences model training and predictive accuracy. This analysis is vital for comprehending the class distribution and its impact on the health insurance cross-sell prediction model."
   ]
  },
  {
   "cell_type": "code",
   "execution_count": 5,
   "id": "7431b41f",
   "metadata": {},
   "outputs": [
    {
     "data": {
      "text/plain": [
       "Response\n",
       "0    43861\n",
       "1     6139\n",
       "Name: count, dtype: int64"
      ]
     },
     "execution_count": 5,
     "metadata": {},
     "output_type": "execute_result"
    }
   ],
   "source": [
    "# --- WRITE YOUR CODE FOR MODULE 1 TASK 5 ---\n",
    "target_counts = df[\"Response\"].value_counts()\n",
    "\n",
    "#--- Inspect data ---\n",
    "target_counts"
   ]
  },
  {
   "cell_type": "markdown",
   "id": "4bb119fc",
   "metadata": {},
   "source": [
    "## Identifying Duplicate Records\n",
    "\n",
    "The calculation 'duplicates' for the 'df' dataset aims to identify and count the duplicate records present in the dataset. Recognizing and handling duplicate entries is crucial in ensuring the dataset's integrity and the accuracy of the predictive model. This step helps in maintaining data quality by addressing redundancy, which could impact the reliability of the predictions related to health insurance cross-selling."
   ]
  },
  {
   "cell_type": "code",
   "execution_count": 6,
   "id": "78f79ba3",
   "metadata": {},
   "outputs": [
    {
     "data": {
      "text/plain": [
       "0        False\n",
       "1        False\n",
       "2        False\n",
       "3        False\n",
       "4        False\n",
       "         ...  \n",
       "49995    False\n",
       "49996    False\n",
       "49997    False\n",
       "49998    False\n",
       "49999    False\n",
       "Length: 50000, dtype: bool"
      ]
     },
     "execution_count": 6,
     "metadata": {},
     "output_type": "execute_result"
    }
   ],
   "source": [
    "duplicates = df.duplicated()\n",
    "\n",
    "#--- Inspect data ---\n",
    "duplicates"
   ]
  },
  {
   "cell_type": "markdown",
   "id": "2df3260e",
   "metadata": {},
   "source": [
    "## Eliminating Duplicate Records\n",
    "\n",
    "Continuing from the previous task, this step involves removing duplicate entries within the 'df' dataset. By executing the code to drop duplicates, the dataset's integrity and cleanliness are maintained, ensuring that the analyses and predictive models for health insurance cross-selling are based on unique and non-redundant data. This process is crucial for data preparation, facilitating accurate and reliable predictions.|"
   ]
  },
  {
   "cell_type": "code",
   "execution_count": 7,
   "id": "be6ea587",
   "metadata": {},
   "outputs": [
    {
     "data": {
      "text/html": [
       "<div>\n",
       "<style scoped>\n",
       "    .dataframe tbody tr th:only-of-type {\n",
       "        vertical-align: middle;\n",
       "    }\n",
       "\n",
       "    .dataframe tbody tr th {\n",
       "        vertical-align: top;\n",
       "    }\n",
       "\n",
       "    .dataframe thead th {\n",
       "        text-align: right;\n",
       "    }\n",
       "</style>\n",
       "<table border=\"1\" class=\"dataframe\">\n",
       "  <thead>\n",
       "    <tr style=\"text-align: right;\">\n",
       "      <th></th>\n",
       "      <th>id</th>\n",
       "      <th>Gender</th>\n",
       "      <th>Age</th>\n",
       "      <th>Driving_License</th>\n",
       "      <th>Region_Code</th>\n",
       "      <th>Previously_Insured</th>\n",
       "      <th>Vehicle_Age</th>\n",
       "      <th>Vehicle_Damage</th>\n",
       "      <th>Annual_Premium</th>\n",
       "      <th>Policy_Sales_Channel</th>\n",
       "      <th>Vintage</th>\n",
       "      <th>Response</th>\n",
       "    </tr>\n",
       "  </thead>\n",
       "  <tbody>\n",
       "    <tr>\n",
       "      <th>0</th>\n",
       "      <td>46048</td>\n",
       "      <td>Male</td>\n",
       "      <td>22</td>\n",
       "      <td>1</td>\n",
       "      <td>26.0</td>\n",
       "      <td>1</td>\n",
       "      <td>&lt; 1 Year</td>\n",
       "      <td>No</td>\n",
       "      <td>27460.0</td>\n",
       "      <td>152.0</td>\n",
       "      <td>172</td>\n",
       "      <td>0</td>\n",
       "    </tr>\n",
       "    <tr>\n",
       "      <th>1</th>\n",
       "      <td>228395</td>\n",
       "      <td>Male</td>\n",
       "      <td>29</td>\n",
       "      <td>1</td>\n",
       "      <td>15.0</td>\n",
       "      <td>0</td>\n",
       "      <td>&lt; 1 Year</td>\n",
       "      <td>Yes</td>\n",
       "      <td>28982.0</td>\n",
       "      <td>152.0</td>\n",
       "      <td>207</td>\n",
       "      <td>0</td>\n",
       "    </tr>\n",
       "    <tr>\n",
       "      <th>2</th>\n",
       "      <td>170449</td>\n",
       "      <td>Male</td>\n",
       "      <td>25</td>\n",
       "      <td>1</td>\n",
       "      <td>2.0</td>\n",
       "      <td>0</td>\n",
       "      <td>&lt; 1 Year</td>\n",
       "      <td>No</td>\n",
       "      <td>25067.0</td>\n",
       "      <td>152.0</td>\n",
       "      <td>228</td>\n",
       "      <td>0</td>\n",
       "    </tr>\n",
       "    <tr>\n",
       "      <th>3</th>\n",
       "      <td>92900</td>\n",
       "      <td>Male</td>\n",
       "      <td>34</td>\n",
       "      <td>1</td>\n",
       "      <td>47.0</td>\n",
       "      <td>1</td>\n",
       "      <td>1-2 Year</td>\n",
       "      <td>Yes</td>\n",
       "      <td>2630.0</td>\n",
       "      <td>156.0</td>\n",
       "      <td>193</td>\n",
       "      <td>0</td>\n",
       "    </tr>\n",
       "    <tr>\n",
       "      <th>4</th>\n",
       "      <td>257877</td>\n",
       "      <td>Male</td>\n",
       "      <td>35</td>\n",
       "      <td>1</td>\n",
       "      <td>28.0</td>\n",
       "      <td>0</td>\n",
       "      <td>1-2 Year</td>\n",
       "      <td>Yes</td>\n",
       "      <td>40499.0</td>\n",
       "      <td>124.0</td>\n",
       "      <td>77</td>\n",
       "      <td>1</td>\n",
       "    </tr>\n",
       "    <tr>\n",
       "      <th>...</th>\n",
       "      <td>...</td>\n",
       "      <td>...</td>\n",
       "      <td>...</td>\n",
       "      <td>...</td>\n",
       "      <td>...</td>\n",
       "      <td>...</td>\n",
       "      <td>...</td>\n",
       "      <td>...</td>\n",
       "      <td>...</td>\n",
       "      <td>...</td>\n",
       "      <td>...</td>\n",
       "      <td>...</td>\n",
       "    </tr>\n",
       "    <tr>\n",
       "      <th>49995</th>\n",
       "      <td>193914</td>\n",
       "      <td>Female</td>\n",
       "      <td>23</td>\n",
       "      <td>1</td>\n",
       "      <td>43.0</td>\n",
       "      <td>1</td>\n",
       "      <td>&lt; 1 Year</td>\n",
       "      <td>No</td>\n",
       "      <td>34493.0</td>\n",
       "      <td>152.0</td>\n",
       "      <td>156</td>\n",
       "      <td>0</td>\n",
       "    </tr>\n",
       "    <tr>\n",
       "      <th>49996</th>\n",
       "      <td>251014</td>\n",
       "      <td>Male</td>\n",
       "      <td>25</td>\n",
       "      <td>1</td>\n",
       "      <td>45.0</td>\n",
       "      <td>0</td>\n",
       "      <td>&lt; 1 Year</td>\n",
       "      <td>Yes</td>\n",
       "      <td>23626.0</td>\n",
       "      <td>152.0</td>\n",
       "      <td>250</td>\n",
       "      <td>1</td>\n",
       "    </tr>\n",
       "    <tr>\n",
       "      <th>49997</th>\n",
       "      <td>176901</td>\n",
       "      <td>Female</td>\n",
       "      <td>35</td>\n",
       "      <td>1</td>\n",
       "      <td>13.0</td>\n",
       "      <td>0</td>\n",
       "      <td>1-2 Year</td>\n",
       "      <td>Yes</td>\n",
       "      <td>30072.0</td>\n",
       "      <td>156.0</td>\n",
       "      <td>256</td>\n",
       "      <td>0</td>\n",
       "    </tr>\n",
       "    <tr>\n",
       "      <th>49998</th>\n",
       "      <td>375871</td>\n",
       "      <td>Male</td>\n",
       "      <td>52</td>\n",
       "      <td>1</td>\n",
       "      <td>14.0</td>\n",
       "      <td>0</td>\n",
       "      <td>1-2 Year</td>\n",
       "      <td>Yes</td>\n",
       "      <td>23863.0</td>\n",
       "      <td>26.0</td>\n",
       "      <td>201</td>\n",
       "      <td>0</td>\n",
       "    </tr>\n",
       "    <tr>\n",
       "      <th>49999</th>\n",
       "      <td>266130</td>\n",
       "      <td>Male</td>\n",
       "      <td>37</td>\n",
       "      <td>1</td>\n",
       "      <td>33.0</td>\n",
       "      <td>0</td>\n",
       "      <td>1-2 Year</td>\n",
       "      <td>Yes</td>\n",
       "      <td>35745.0</td>\n",
       "      <td>124.0</td>\n",
       "      <td>179</td>\n",
       "      <td>0</td>\n",
       "    </tr>\n",
       "  </tbody>\n",
       "</table>\n",
       "<p>49996 rows × 12 columns</p>\n",
       "</div>"
      ],
      "text/plain": [
       "           id  Gender  Age  Driving_License  Region_Code  Previously_Insured  \\\n",
       "0       46048    Male   22                1         26.0                   1   \n",
       "1      228395    Male   29                1         15.0                   0   \n",
       "2      170449    Male   25                1          2.0                   0   \n",
       "3       92900    Male   34                1         47.0                   1   \n",
       "4      257877    Male   35                1         28.0                   0   \n",
       "...       ...     ...  ...              ...          ...                 ...   \n",
       "49995  193914  Female   23                1         43.0                   1   \n",
       "49996  251014    Male   25                1         45.0                   0   \n",
       "49997  176901  Female   35                1         13.0                   0   \n",
       "49998  375871    Male   52                1         14.0                   0   \n",
       "49999  266130    Male   37                1         33.0                   0   \n",
       "\n",
       "      Vehicle_Age Vehicle_Damage  Annual_Premium  Policy_Sales_Channel  \\\n",
       "0        < 1 Year             No         27460.0                 152.0   \n",
       "1        < 1 Year            Yes         28982.0                 152.0   \n",
       "2        < 1 Year             No         25067.0                 152.0   \n",
       "3        1-2 Year            Yes          2630.0                 156.0   \n",
       "4        1-2 Year            Yes         40499.0                 124.0   \n",
       "...           ...            ...             ...                   ...   \n",
       "49995    < 1 Year             No         34493.0                 152.0   \n",
       "49996    < 1 Year            Yes         23626.0                 152.0   \n",
       "49997    1-2 Year            Yes         30072.0                 156.0   \n",
       "49998    1-2 Year            Yes         23863.0                  26.0   \n",
       "49999    1-2 Year            Yes         35745.0                 124.0   \n",
       "\n",
       "       Vintage  Response  \n",
       "0          172         0  \n",
       "1          207         0  \n",
       "2          228         0  \n",
       "3          193         0  \n",
       "4           77         1  \n",
       "...        ...       ...  \n",
       "49995      156         0  \n",
       "49996      250         1  \n",
       "49997      256         0  \n",
       "49998      201         0  \n",
       "49999      179         0  \n",
       "\n",
       "[49996 rows x 12 columns]"
      ]
     },
     "execution_count": 7,
     "metadata": {},
     "output_type": "execute_result"
    }
   ],
   "source": [
    "df = df.drop_duplicates()\n",
    "\n",
    "#--- Inspect data ---\n",
    "df"
   ]
  },
  {
   "cell_type": "markdown",
   "id": "b016056b",
   "metadata": {},
   "source": [
    "## Data Preparation - Feature Selection\n",
    "\n",
    "In this task, a copy of the original dataset ('df') is created and stored in 'data'. Following this, the 'id' column is removed to streamline the dataset for analysis. This feature selection process is essential for excluding irrelevant or redundant information that does not contribute to the health insurance cross-selling prediction model. This preparation step ensures that the model is built on pertinent features, enhancing its accuracy and performance."
   ]
  },
  {
   "cell_type": "code",
   "execution_count": 8,
   "id": "56822d76",
   "metadata": {},
   "outputs": [
    {
     "data": {
      "text/html": [
       "<div>\n",
       "<style scoped>\n",
       "    .dataframe tbody tr th:only-of-type {\n",
       "        vertical-align: middle;\n",
       "    }\n",
       "\n",
       "    .dataframe tbody tr th {\n",
       "        vertical-align: top;\n",
       "    }\n",
       "\n",
       "    .dataframe thead th {\n",
       "        text-align: right;\n",
       "    }\n",
       "</style>\n",
       "<table border=\"1\" class=\"dataframe\">\n",
       "  <thead>\n",
       "    <tr style=\"text-align: right;\">\n",
       "      <th></th>\n",
       "      <th>Gender</th>\n",
       "      <th>Age</th>\n",
       "      <th>Driving_License</th>\n",
       "      <th>Region_Code</th>\n",
       "      <th>Previously_Insured</th>\n",
       "      <th>Vehicle_Age</th>\n",
       "      <th>Vehicle_Damage</th>\n",
       "      <th>Annual_Premium</th>\n",
       "      <th>Policy_Sales_Channel</th>\n",
       "      <th>Vintage</th>\n",
       "      <th>Response</th>\n",
       "    </tr>\n",
       "  </thead>\n",
       "  <tbody>\n",
       "    <tr>\n",
       "      <th>0</th>\n",
       "      <td>Male</td>\n",
       "      <td>22</td>\n",
       "      <td>1</td>\n",
       "      <td>26.0</td>\n",
       "      <td>1</td>\n",
       "      <td>&lt; 1 Year</td>\n",
       "      <td>No</td>\n",
       "      <td>27460.0</td>\n",
       "      <td>152.0</td>\n",
       "      <td>172</td>\n",
       "      <td>0</td>\n",
       "    </tr>\n",
       "    <tr>\n",
       "      <th>1</th>\n",
       "      <td>Male</td>\n",
       "      <td>29</td>\n",
       "      <td>1</td>\n",
       "      <td>15.0</td>\n",
       "      <td>0</td>\n",
       "      <td>&lt; 1 Year</td>\n",
       "      <td>Yes</td>\n",
       "      <td>28982.0</td>\n",
       "      <td>152.0</td>\n",
       "      <td>207</td>\n",
       "      <td>0</td>\n",
       "    </tr>\n",
       "    <tr>\n",
       "      <th>2</th>\n",
       "      <td>Male</td>\n",
       "      <td>25</td>\n",
       "      <td>1</td>\n",
       "      <td>2.0</td>\n",
       "      <td>0</td>\n",
       "      <td>&lt; 1 Year</td>\n",
       "      <td>No</td>\n",
       "      <td>25067.0</td>\n",
       "      <td>152.0</td>\n",
       "      <td>228</td>\n",
       "      <td>0</td>\n",
       "    </tr>\n",
       "    <tr>\n",
       "      <th>3</th>\n",
       "      <td>Male</td>\n",
       "      <td>34</td>\n",
       "      <td>1</td>\n",
       "      <td>47.0</td>\n",
       "      <td>1</td>\n",
       "      <td>1-2 Year</td>\n",
       "      <td>Yes</td>\n",
       "      <td>2630.0</td>\n",
       "      <td>156.0</td>\n",
       "      <td>193</td>\n",
       "      <td>0</td>\n",
       "    </tr>\n",
       "    <tr>\n",
       "      <th>4</th>\n",
       "      <td>Male</td>\n",
       "      <td>35</td>\n",
       "      <td>1</td>\n",
       "      <td>28.0</td>\n",
       "      <td>0</td>\n",
       "      <td>1-2 Year</td>\n",
       "      <td>Yes</td>\n",
       "      <td>40499.0</td>\n",
       "      <td>124.0</td>\n",
       "      <td>77</td>\n",
       "      <td>1</td>\n",
       "    </tr>\n",
       "    <tr>\n",
       "      <th>...</th>\n",
       "      <td>...</td>\n",
       "      <td>...</td>\n",
       "      <td>...</td>\n",
       "      <td>...</td>\n",
       "      <td>...</td>\n",
       "      <td>...</td>\n",
       "      <td>...</td>\n",
       "      <td>...</td>\n",
       "      <td>...</td>\n",
       "      <td>...</td>\n",
       "      <td>...</td>\n",
       "    </tr>\n",
       "    <tr>\n",
       "      <th>49995</th>\n",
       "      <td>Female</td>\n",
       "      <td>23</td>\n",
       "      <td>1</td>\n",
       "      <td>43.0</td>\n",
       "      <td>1</td>\n",
       "      <td>&lt; 1 Year</td>\n",
       "      <td>No</td>\n",
       "      <td>34493.0</td>\n",
       "      <td>152.0</td>\n",
       "      <td>156</td>\n",
       "      <td>0</td>\n",
       "    </tr>\n",
       "    <tr>\n",
       "      <th>49996</th>\n",
       "      <td>Male</td>\n",
       "      <td>25</td>\n",
       "      <td>1</td>\n",
       "      <td>45.0</td>\n",
       "      <td>0</td>\n",
       "      <td>&lt; 1 Year</td>\n",
       "      <td>Yes</td>\n",
       "      <td>23626.0</td>\n",
       "      <td>152.0</td>\n",
       "      <td>250</td>\n",
       "      <td>1</td>\n",
       "    </tr>\n",
       "    <tr>\n",
       "      <th>49997</th>\n",
       "      <td>Female</td>\n",
       "      <td>35</td>\n",
       "      <td>1</td>\n",
       "      <td>13.0</td>\n",
       "      <td>0</td>\n",
       "      <td>1-2 Year</td>\n",
       "      <td>Yes</td>\n",
       "      <td>30072.0</td>\n",
       "      <td>156.0</td>\n",
       "      <td>256</td>\n",
       "      <td>0</td>\n",
       "    </tr>\n",
       "    <tr>\n",
       "      <th>49998</th>\n",
       "      <td>Male</td>\n",
       "      <td>52</td>\n",
       "      <td>1</td>\n",
       "      <td>14.0</td>\n",
       "      <td>0</td>\n",
       "      <td>1-2 Year</td>\n",
       "      <td>Yes</td>\n",
       "      <td>23863.0</td>\n",
       "      <td>26.0</td>\n",
       "      <td>201</td>\n",
       "      <td>0</td>\n",
       "    </tr>\n",
       "    <tr>\n",
       "      <th>49999</th>\n",
       "      <td>Male</td>\n",
       "      <td>37</td>\n",
       "      <td>1</td>\n",
       "      <td>33.0</td>\n",
       "      <td>0</td>\n",
       "      <td>1-2 Year</td>\n",
       "      <td>Yes</td>\n",
       "      <td>35745.0</td>\n",
       "      <td>124.0</td>\n",
       "      <td>179</td>\n",
       "      <td>0</td>\n",
       "    </tr>\n",
       "  </tbody>\n",
       "</table>\n",
       "<p>49996 rows × 11 columns</p>\n",
       "</div>"
      ],
      "text/plain": [
       "       Gender  Age  Driving_License  Region_Code  Previously_Insured  \\\n",
       "0        Male   22                1         26.0                   1   \n",
       "1        Male   29                1         15.0                   0   \n",
       "2        Male   25                1          2.0                   0   \n",
       "3        Male   34                1         47.0                   1   \n",
       "4        Male   35                1         28.0                   0   \n",
       "...       ...  ...              ...          ...                 ...   \n",
       "49995  Female   23                1         43.0                   1   \n",
       "49996    Male   25                1         45.0                   0   \n",
       "49997  Female   35                1         13.0                   0   \n",
       "49998    Male   52                1         14.0                   0   \n",
       "49999    Male   37                1         33.0                   0   \n",
       "\n",
       "      Vehicle_Age Vehicle_Damage  Annual_Premium  Policy_Sales_Channel  \\\n",
       "0        < 1 Year             No         27460.0                 152.0   \n",
       "1        < 1 Year            Yes         28982.0                 152.0   \n",
       "2        < 1 Year             No         25067.0                 152.0   \n",
       "3        1-2 Year            Yes          2630.0                 156.0   \n",
       "4        1-2 Year            Yes         40499.0                 124.0   \n",
       "...           ...            ...             ...                   ...   \n",
       "49995    < 1 Year             No         34493.0                 152.0   \n",
       "49996    < 1 Year            Yes         23626.0                 152.0   \n",
       "49997    1-2 Year            Yes         30072.0                 156.0   \n",
       "49998    1-2 Year            Yes         23863.0                  26.0   \n",
       "49999    1-2 Year            Yes         35745.0                 124.0   \n",
       "\n",
       "       Vintage  Response  \n",
       "0          172         0  \n",
       "1          207         0  \n",
       "2          228         0  \n",
       "3          193         0  \n",
       "4           77         1  \n",
       "...        ...       ...  \n",
       "49995      156         0  \n",
       "49996      250         1  \n",
       "49997      256         0  \n",
       "49998      201         0  \n",
       "49999      179         0  \n",
       "\n",
       "[49996 rows x 11 columns]"
      ]
     },
     "execution_count": 8,
     "metadata": {},
     "output_type": "execute_result"
    }
   ],
   "source": [
    "data  = df.copy()\n",
    "\n",
    "data.drop('id', axis=1, inplace=True)\n",
    "\n",
    "#--- Inspect data ---\n",
    "data"
   ]
  },
  {
   "cell_type": "markdown",
   "id": "44ad7d17",
   "metadata": {},
   "source": [
    "## Data Transformation - Encoding Categorical Features\n",
    "\n",
    "In this task, the 'Gender', 'Vehicle_Damage', and 'Vehicle_Age' columns in the 'data' dataset are transformed by replacing categorical values with numerical representations. This encoding process converts categorical variables into a format suitable for machine learning models. For instance, transforming 'Gender' to numeric values (1 for Male, 0 for Female), 'Vehicle_Damage' to binary values (1 for Yes, 0 for No), and 'Vehicle_Age' to numeric representations for different vehicle age ranges (1 for < 1 Year, 2 for 1-2 Year, 3 for > 2 Years). This transformation is crucial for ensuring that the model can interpret and utilize these features effectively in the health insurance cross-selling prediction."
   ]
  },
  {
   "cell_type": "code",
   "execution_count": 9,
   "id": "1c459c64",
   "metadata": {},
   "outputs": [
    {
     "data": {
      "text/html": [
       "<div>\n",
       "<style scoped>\n",
       "    .dataframe tbody tr th:only-of-type {\n",
       "        vertical-align: middle;\n",
       "    }\n",
       "\n",
       "    .dataframe tbody tr th {\n",
       "        vertical-align: top;\n",
       "    }\n",
       "\n",
       "    .dataframe thead th {\n",
       "        text-align: right;\n",
       "    }\n",
       "</style>\n",
       "<table border=\"1\" class=\"dataframe\">\n",
       "  <thead>\n",
       "    <tr style=\"text-align: right;\">\n",
       "      <th></th>\n",
       "      <th>Gender</th>\n",
       "      <th>Age</th>\n",
       "      <th>Driving_License</th>\n",
       "      <th>Region_Code</th>\n",
       "      <th>Previously_Insured</th>\n",
       "      <th>Vehicle_Age</th>\n",
       "      <th>Vehicle_Damage</th>\n",
       "      <th>Annual_Premium</th>\n",
       "      <th>Policy_Sales_Channel</th>\n",
       "      <th>Vintage</th>\n",
       "      <th>Response</th>\n",
       "    </tr>\n",
       "  </thead>\n",
       "  <tbody>\n",
       "    <tr>\n",
       "      <th>0</th>\n",
       "      <td>1</td>\n",
       "      <td>22</td>\n",
       "      <td>1</td>\n",
       "      <td>26.0</td>\n",
       "      <td>1</td>\n",
       "      <td>1</td>\n",
       "      <td>0</td>\n",
       "      <td>27460.0</td>\n",
       "      <td>152.0</td>\n",
       "      <td>172</td>\n",
       "      <td>0</td>\n",
       "    </tr>\n",
       "    <tr>\n",
       "      <th>1</th>\n",
       "      <td>1</td>\n",
       "      <td>29</td>\n",
       "      <td>1</td>\n",
       "      <td>15.0</td>\n",
       "      <td>0</td>\n",
       "      <td>1</td>\n",
       "      <td>1</td>\n",
       "      <td>28982.0</td>\n",
       "      <td>152.0</td>\n",
       "      <td>207</td>\n",
       "      <td>0</td>\n",
       "    </tr>\n",
       "    <tr>\n",
       "      <th>2</th>\n",
       "      <td>1</td>\n",
       "      <td>25</td>\n",
       "      <td>1</td>\n",
       "      <td>2.0</td>\n",
       "      <td>0</td>\n",
       "      <td>1</td>\n",
       "      <td>0</td>\n",
       "      <td>25067.0</td>\n",
       "      <td>152.0</td>\n",
       "      <td>228</td>\n",
       "      <td>0</td>\n",
       "    </tr>\n",
       "    <tr>\n",
       "      <th>3</th>\n",
       "      <td>1</td>\n",
       "      <td>34</td>\n",
       "      <td>1</td>\n",
       "      <td>47.0</td>\n",
       "      <td>1</td>\n",
       "      <td>2</td>\n",
       "      <td>1</td>\n",
       "      <td>2630.0</td>\n",
       "      <td>156.0</td>\n",
       "      <td>193</td>\n",
       "      <td>0</td>\n",
       "    </tr>\n",
       "    <tr>\n",
       "      <th>4</th>\n",
       "      <td>1</td>\n",
       "      <td>35</td>\n",
       "      <td>1</td>\n",
       "      <td>28.0</td>\n",
       "      <td>0</td>\n",
       "      <td>2</td>\n",
       "      <td>1</td>\n",
       "      <td>40499.0</td>\n",
       "      <td>124.0</td>\n",
       "      <td>77</td>\n",
       "      <td>1</td>\n",
       "    </tr>\n",
       "    <tr>\n",
       "      <th>...</th>\n",
       "      <td>...</td>\n",
       "      <td>...</td>\n",
       "      <td>...</td>\n",
       "      <td>...</td>\n",
       "      <td>...</td>\n",
       "      <td>...</td>\n",
       "      <td>...</td>\n",
       "      <td>...</td>\n",
       "      <td>...</td>\n",
       "      <td>...</td>\n",
       "      <td>...</td>\n",
       "    </tr>\n",
       "    <tr>\n",
       "      <th>49995</th>\n",
       "      <td>0</td>\n",
       "      <td>23</td>\n",
       "      <td>1</td>\n",
       "      <td>43.0</td>\n",
       "      <td>1</td>\n",
       "      <td>1</td>\n",
       "      <td>0</td>\n",
       "      <td>34493.0</td>\n",
       "      <td>152.0</td>\n",
       "      <td>156</td>\n",
       "      <td>0</td>\n",
       "    </tr>\n",
       "    <tr>\n",
       "      <th>49996</th>\n",
       "      <td>1</td>\n",
       "      <td>25</td>\n",
       "      <td>1</td>\n",
       "      <td>45.0</td>\n",
       "      <td>0</td>\n",
       "      <td>1</td>\n",
       "      <td>1</td>\n",
       "      <td>23626.0</td>\n",
       "      <td>152.0</td>\n",
       "      <td>250</td>\n",
       "      <td>1</td>\n",
       "    </tr>\n",
       "    <tr>\n",
       "      <th>49997</th>\n",
       "      <td>0</td>\n",
       "      <td>35</td>\n",
       "      <td>1</td>\n",
       "      <td>13.0</td>\n",
       "      <td>0</td>\n",
       "      <td>2</td>\n",
       "      <td>1</td>\n",
       "      <td>30072.0</td>\n",
       "      <td>156.0</td>\n",
       "      <td>256</td>\n",
       "      <td>0</td>\n",
       "    </tr>\n",
       "    <tr>\n",
       "      <th>49998</th>\n",
       "      <td>1</td>\n",
       "      <td>52</td>\n",
       "      <td>1</td>\n",
       "      <td>14.0</td>\n",
       "      <td>0</td>\n",
       "      <td>2</td>\n",
       "      <td>1</td>\n",
       "      <td>23863.0</td>\n",
       "      <td>26.0</td>\n",
       "      <td>201</td>\n",
       "      <td>0</td>\n",
       "    </tr>\n",
       "    <tr>\n",
       "      <th>49999</th>\n",
       "      <td>1</td>\n",
       "      <td>37</td>\n",
       "      <td>1</td>\n",
       "      <td>33.0</td>\n",
       "      <td>0</td>\n",
       "      <td>2</td>\n",
       "      <td>1</td>\n",
       "      <td>35745.0</td>\n",
       "      <td>124.0</td>\n",
       "      <td>179</td>\n",
       "      <td>0</td>\n",
       "    </tr>\n",
       "  </tbody>\n",
       "</table>\n",
       "<p>49996 rows × 11 columns</p>\n",
       "</div>"
      ],
      "text/plain": [
       "       Gender  Age  Driving_License  Region_Code  Previously_Insured  \\\n",
       "0           1   22                1         26.0                   1   \n",
       "1           1   29                1         15.0                   0   \n",
       "2           1   25                1          2.0                   0   \n",
       "3           1   34                1         47.0                   1   \n",
       "4           1   35                1         28.0                   0   \n",
       "...       ...  ...              ...          ...                 ...   \n",
       "49995       0   23                1         43.0                   1   \n",
       "49996       1   25                1         45.0                   0   \n",
       "49997       0   35                1         13.0                   0   \n",
       "49998       1   52                1         14.0                   0   \n",
       "49999       1   37                1         33.0                   0   \n",
       "\n",
       "       Vehicle_Age  Vehicle_Damage  Annual_Premium  Policy_Sales_Channel  \\\n",
       "0                1               0         27460.0                 152.0   \n",
       "1                1               1         28982.0                 152.0   \n",
       "2                1               0         25067.0                 152.0   \n",
       "3                2               1          2630.0                 156.0   \n",
       "4                2               1         40499.0                 124.0   \n",
       "...            ...             ...             ...                   ...   \n",
       "49995            1               0         34493.0                 152.0   \n",
       "49996            1               1         23626.0                 152.0   \n",
       "49997            2               1         30072.0                 156.0   \n",
       "49998            2               1         23863.0                  26.0   \n",
       "49999            2               1         35745.0                 124.0   \n",
       "\n",
       "       Vintage  Response  \n",
       "0          172         0  \n",
       "1          207         0  \n",
       "2          228         0  \n",
       "3          193         0  \n",
       "4           77         1  \n",
       "...        ...       ...  \n",
       "49995      156         0  \n",
       "49996      250         1  \n",
       "49997      256         0  \n",
       "49998      201         0  \n",
       "49999      179         0  \n",
       "\n",
       "[49996 rows x 11 columns]"
      ]
     },
     "execution_count": 9,
     "metadata": {},
     "output_type": "execute_result"
    }
   ],
   "source": [
    "# --- WRITE YOUR CODE FOR MODULE 2 TASK 4 ---\n",
    "# Encode 'Gender': 1 for Male, 0 for Female\n",
    "data['Gender'] = data['Gender'].map({'Male': 1, 'Female': 0})\n",
    "\n",
    "# Encode 'Vehicle_Damage': 1 for Yes, 0 for No\n",
    "data['Vehicle_Damage'] = data['Vehicle_Damage'].map({'Yes': 1, 'No': 0})\n",
    "\n",
    "# Encode 'Vehicle_Age': 1 for < 1 Year, 2 for 1-2 Year, 3 for > 2 Years\n",
    "data['Vehicle_Age'] = data['Vehicle_Age'].map({'< 1 Year': 1, '1-2 Year': 2, '> 2 Years': 3})\n",
    "\n",
    "#--- Inspect data ---\n",
    "data"
   ]
  },
  {
   "cell_type": "markdown",
   "id": "327527d4",
   "metadata": {},
   "source": [
    "## Reviewing Data Types in Processed Dataset\n",
    "\n",
    "This task involves reviewing the data types of the 'data' dataset after the transformation process. The 'datatypes' output provides insight into the types of variables present in the dataset. Understanding the data types is crucial to ensure that the features are appropriately formatted for further analysis and modeling. This analysis is essential for confirming that the variables are in the desired data type for accurate health insurance cross-selling predictions."
   ]
  },
  {
   "cell_type": "code",
   "execution_count": 10,
   "id": "29bb8c69",
   "metadata": {},
   "outputs": [
    {
     "data": {
      "text/plain": [
       "Gender                    int64\n",
       "Age                       int64\n",
       "Driving_License           int64\n",
       "Region_Code             float64\n",
       "Previously_Insured        int64\n",
       "Vehicle_Age               int64\n",
       "Vehicle_Damage            int64\n",
       "Annual_Premium          float64\n",
       "Policy_Sales_Channel    float64\n",
       "Vintage                   int64\n",
       "Response                  int64\n",
       "dtype: object"
      ]
     },
     "execution_count": 10,
     "metadata": {},
     "output_type": "execute_result"
    }
   ],
   "source": [
    "datatypes  = data.dtypes\n",
    "\n",
    "#--- Inspect data ---\n",
    "datatypes"
   ]
  },
  {
   "cell_type": "markdown",
   "id": "6ff87386",
   "metadata": {},
   "source": [
    "## Exploring Correlation between Features"
   ]
  },
  {
   "cell_type": "code",
   "execution_count": 11,
   "id": "66aed815",
   "metadata": {},
   "outputs": [
    {
     "data": {
      "image/png": "[encoded data removed]",
      "text/plain": [
       "<Figure size 1000x800 with 2 Axes>"
      ]
     },
     "metadata": {},
     "output_type": "display_data"
    }
   ],
   "source": [
    "import matplotlib.pyplot as plt\n",
    "import seaborn as sns\n",
    "\n",
    "# Calculate the correlation matrix\n",
    "corr_data = data.corr()\n",
    "\n",
    "# Set up the matplotlib figure\n",
    "plt.figure(figsize=(10, 8))\n",
    "\n",
    "# Draw the heatmap\n",
    "sns.heatmap(corr_data, annot=True, fmt=\".2f\", cmap='coolwarm')\n",
    "\n",
    "plt.show()"
   ]
  },
  {
   "cell_type": "markdown",
   "id": "e3426ada",
   "metadata": {},
   "source": [
    "## Visualizing Response Class Distribution\n",
    "\n",
    "Here, a count plot is generated to visualize the distribution of the 'Response' variable within the 'data' dataset. This visualization presents a clear depiction of the class distribution, helping to understand the balance or imbalance between different response classes. Such visualizations are crucial for assessing the composition of the target variable and its potential impact on the modeling process for health insurance cross-selling predictions.\n"
   ]
  },
  {
   "cell_type": "code",
   "execution_count": 12,
   "id": "19e4c624",
   "metadata": {},
   "outputs": [
    {
     "name": "stderr",
     "output_type": "stream",
     "text": [
      "/Library/Frameworks/Python.framework/Versions/3.11/lib/python3.11/site-packages/seaborn/_oldcore.py:1498: FutureWarning: is_categorical_dtype is deprecated and will be removed in a future version. Use isinstance(dtype, CategoricalDtype) instead\n",
      "  if pd.api.types.is_categorical_dtype(vector):\n",
      "/Library/Frameworks/Python.framework/Versions/3.11/lib/python3.11/site-packages/seaborn/_oldcore.py:1498: FutureWarning: is_categorical_dtype is deprecated and will be removed in a future version. Use isinstance(dtype, CategoricalDtype) instead\n",
      "  if pd.api.types.is_categorical_dtype(vector):\n",
      "/Library/Frameworks/Python.framework/Versions/3.11/lib/python3.11/site-packages/seaborn/_oldcore.py:1498: FutureWarning: is_categorical_dtype is deprecated and will be removed in a future version. Use isinstance(dtype, CategoricalDtype) instead\n",
      "  if pd.api.types.is_categorical_dtype(vector):\n"
     ]
    },
    {
     "data": {
      "image/png": "[encoded data removed]",
      "text/plain": [
       "<Figure size 800x600 with 1 Axes>"
      ]
     },
     "metadata": {},
     "output_type": "display_data"
    }
   ],
   "source": [
    "plt.figure(figsize=(8, 6))\n",
    "response_ax = sns.countplot(x='Response', data=data)\n",
    "\n",
    "# Setting the title and labels for the plot\n",
    "response_ax.set_title('Distribution of Response Classes')\n",
    "response_ax.set_xlabel('Response')\n",
    "response_ax.set_ylabel('Count')\n",
    "\n",
    "# Show the plot\n",
    "plt.show()"
   ]
  },
  {
   "cell_type": "markdown",
   "id": "72412ad9",
   "metadata": {},
   "source": [
    "## Visualizing Gender Distribution"
   ]
  },
  {
   "cell_type": "code",
   "execution_count": 13,
   "id": "bc4c093c",
   "metadata": {},
   "outputs": [
    {
     "name": "stderr",
     "output_type": "stream",
     "text": [
      "/Library/Frameworks/Python.framework/Versions/3.11/lib/python3.11/site-packages/seaborn/_oldcore.py:1498: FutureWarning: is_categorical_dtype is deprecated and will be removed in a future version. Use isinstance(dtype, CategoricalDtype) instead\n",
      "  if pd.api.types.is_categorical_dtype(vector):\n",
      "/Library/Frameworks/Python.framework/Versions/3.11/lib/python3.11/site-packages/seaborn/_oldcore.py:1498: FutureWarning: is_categorical_dtype is deprecated and will be removed in a future version. Use isinstance(dtype, CategoricalDtype) instead\n",
      "  if pd.api.types.is_categorical_dtype(vector):\n",
      "/Library/Frameworks/Python.framework/Versions/3.11/lib/python3.11/site-packages/seaborn/_oldcore.py:1498: FutureWarning: is_categorical_dtype is deprecated and will be removed in a future version. Use isinstance(dtype, CategoricalDtype) instead\n",
      "  if pd.api.types.is_categorical_dtype(vector):\n"
     ]
    },
    {
     "data": {
      "image/png": "[encoded data removed]",
      "text/plain": [
       "<Figure size 800x600 with 1 Axes>"
      ]
     },
     "metadata": {},
     "output_type": "display_data"
    }
   ],
   "source": [
    "# Create a count plot for the 'Gender' variable\n",
    "plt.figure(figsize=(8, 6))\n",
    "gender_ax = sns.countplot(x='Gender', data=data)\n",
    "\n",
    "# Setting the title and labels for the plot\n",
    "gender_ax.set_title('Gender Distribution in Dataset')\n",
    "gender_ax.set_xlabel('Gender')\n",
    "gender_ax.set_ylabel('Count')\n",
    "\n",
    "# Show the plot\n",
    "plt.show()"
   ]
  },
  {
   "cell_type": "markdown",
   "id": "3543550b",
   "metadata": {},
   "source": [
    "## Visualizing Vehicle Damage Distribution"
   ]
  },
  {
   "cell_type": "code",
   "execution_count": 14,
   "id": "b7a5af73",
   "metadata": {},
   "outputs": [
    {
     "name": "stderr",
     "output_type": "stream",
     "text": [
      "/Library/Frameworks/Python.framework/Versions/3.11/lib/python3.11/site-packages/seaborn/_oldcore.py:1498: FutureWarning: is_categorical_dtype is deprecated and will be removed in a future version. Use isinstance(dtype, CategoricalDtype) instead\n",
      "  if pd.api.types.is_categorical_dtype(vector):\n",
      "/Library/Frameworks/Python.framework/Versions/3.11/lib/python3.11/site-packages/seaborn/_oldcore.py:1498: FutureWarning: is_categorical_dtype is deprecated and will be removed in a future version. Use isinstance(dtype, CategoricalDtype) instead\n",
      "  if pd.api.types.is_categorical_dtype(vector):\n",
      "/Library/Frameworks/Python.framework/Versions/3.11/lib/python3.11/site-packages/seaborn/_oldcore.py:1498: FutureWarning: is_categorical_dtype is deprecated and will be removed in a future version. Use isinstance(dtype, CategoricalDtype) instead\n",
      "  if pd.api.types.is_categorical_dtype(vector):\n"
     ]
    },
    {
     "data": {
      "image/png": "[encoded data removed]",
      "text/plain": [
       "<Figure size 640x480 with 1 Axes>"
      ]
     },
     "metadata": {},
     "output_type": "display_data"
    }
   ],
   "source": [
    "veh_dmg_ax = sns.countplot(x='Vehicle_Damage', data=data)\n",
    "\n",
    "veh_dmg_ax.set_title('Vehicle Damage distribution in Dataset')\n",
    "veh_dmg_ax.set_xlabel('Vehicle Damage')\n",
    "veh_dmg_ax.set_ylabel('Count')\n",
    "\n",
    "plt.show()"
   ]
  },
  {
   "cell_type": "code",
   "execution_count": 15,
   "id": "ebe26763",
   "metadata": {},
   "outputs": [
    {
     "name": "stderr",
     "output_type": "stream",
     "text": [
      "/Library/Frameworks/Python.framework/Versions/3.11/lib/python3.11/site-packages/seaborn/_oldcore.py:1498: FutureWarning: is_categorical_dtype is deprecated and will be removed in a future version. Use isinstance(dtype, CategoricalDtype) instead\n",
      "  if pd.api.types.is_categorical_dtype(vector):\n",
      "/Library/Frameworks/Python.framework/Versions/3.11/lib/python3.11/site-packages/seaborn/_oldcore.py:1498: FutureWarning: is_categorical_dtype is deprecated and will be removed in a future version. Use isinstance(dtype, CategoricalDtype) instead\n",
      "  if pd.api.types.is_categorical_dtype(vector):\n",
      "/Library/Frameworks/Python.framework/Versions/3.11/lib/python3.11/site-packages/seaborn/_oldcore.py:1498: FutureWarning: is_categorical_dtype is deprecated and will be removed in a future version. Use isinstance(dtype, CategoricalDtype) instead\n",
      "  if pd.api.types.is_categorical_dtype(vector):\n",
      "/Library/Frameworks/Python.framework/Versions/3.11/lib/python3.11/site-packages/seaborn/_oldcore.py:1498: FutureWarning: is_categorical_dtype is deprecated and will be removed in a future version. Use isinstance(dtype, CategoricalDtype) instead\n",
      "  if pd.api.types.is_categorical_dtype(vector):\n"
     ]
    },
    {
     "data": {
      "image/png": "[encoded data removed]",
      "text/plain": [
       "<Figure size 1000x700 with 1 Axes>"
      ]
     },
     "metadata": {},
     "output_type": "display_data"
    }
   ],
   "source": [
    "## Analyzing Response with Respect to Vehicle Damage\n",
    "\n",
    "plt.figure(figsize=(10, 7))\n",
    "dmg_vs_resp_ax = sns.countplot(x='Vehicle_Damage', hue='Response', data=data)\n",
    "\n",
    "# Setting the title and labels for the plot\n",
    "dmg_vs_resp_ax.set_title('Response Distribution with Respect to Vehicle Damage')\n",
    "dmg_vs_resp_ax.set_xlabel('Vehicle Damage')\n",
    "dmg_vs_resp_ax.set_ylabel('Count')\n",
    "\n",
    "# Adding a legend\n",
    "dmg_vs_resp_ax.legend(title='Response', loc='upper right')\n",
    "\n",
    "# Show the plot\n",
    "plt.show()"
   ]
  },
  {
   "cell_type": "markdown",
   "id": "dd68a95a",
   "metadata": {},
   "source": [
    "## Exploring Response with Previous Insurance Status"
   ]
  },
  {
   "cell_type": "code",
   "execution_count": 16,
   "id": "bd9d8fca",
   "metadata": {},
   "outputs": [
    {
     "name": "stderr",
     "output_type": "stream",
     "text": [
      "/Library/Frameworks/Python.framework/Versions/3.11/lib/python3.11/site-packages/seaborn/_oldcore.py:1498: FutureWarning: is_categorical_dtype is deprecated and will be removed in a future version. Use isinstance(dtype, CategoricalDtype) instead\n",
      "  if pd.api.types.is_categorical_dtype(vector):\n",
      "/Library/Frameworks/Python.framework/Versions/3.11/lib/python3.11/site-packages/seaborn/_oldcore.py:1498: FutureWarning: is_categorical_dtype is deprecated and will be removed in a future version. Use isinstance(dtype, CategoricalDtype) instead\n",
      "  if pd.api.types.is_categorical_dtype(vector):\n",
      "/Library/Frameworks/Python.framework/Versions/3.11/lib/python3.11/site-packages/seaborn/_oldcore.py:1498: FutureWarning: is_categorical_dtype is deprecated and will be removed in a future version. Use isinstance(dtype, CategoricalDtype) instead\n",
      "  if pd.api.types.is_categorical_dtype(vector):\n",
      "/Library/Frameworks/Python.framework/Versions/3.11/lib/python3.11/site-packages/seaborn/_oldcore.py:1498: FutureWarning: is_categorical_dtype is deprecated and will be removed in a future version. Use isinstance(dtype, CategoricalDtype) instead\n",
      "  if pd.api.types.is_categorical_dtype(vector):\n"
     ]
    },
    {
     "data": {
      "image/png": "[encoded data removed]",
      "text/plain": [
       "<Figure size 640x480 with 1 Axes>"
      ]
     },
     "metadata": {},
     "output_type": "display_data"
    }
   ],
   "source": [
    "prev_ins_ax = sns.countplot(x='Previously_Insured', hue='Response', data=data)\n",
    "\n",
    "# Setting the title and labels for the plot\n",
    "prev_ins_ax.set_title('Response Distribution with Respect to Previous Insurance Status')\n",
    "prev_ins_ax.set_xlabel('Previously Insured')\n",
    "prev_ins_ax.set_ylabel('Count')\n",
    "\n",
    "# Adding a legend\n",
    "prev_ins_ax.legend(title='Response', loc='upper right')\n",
    "\n",
    "# Show the plot\n",
    "plt.show()"
   ]
  },
  {
   "cell_type": "markdown",
   "id": "f63baaf3",
   "metadata": {},
   "source": [
    "## Analyzing Response Based on Vehicle Age"
   ]
  },
  {
   "cell_type": "code",
   "execution_count": 17,
   "id": "9d3f5a17",
   "metadata": {},
   "outputs": [
    {
     "name": "stderr",
     "output_type": "stream",
     "text": [
      "/Library/Frameworks/Python.framework/Versions/3.11/lib/python3.11/site-packages/seaborn/_oldcore.py:1498: FutureWarning: is_categorical_dtype is deprecated and will be removed in a future version. Use isinstance(dtype, CategoricalDtype) instead\n",
      "  if pd.api.types.is_categorical_dtype(vector):\n",
      "/Library/Frameworks/Python.framework/Versions/3.11/lib/python3.11/site-packages/seaborn/_oldcore.py:1498: FutureWarning: is_categorical_dtype is deprecated and will be removed in a future version. Use isinstance(dtype, CategoricalDtype) instead\n",
      "  if pd.api.types.is_categorical_dtype(vector):\n",
      "/Library/Frameworks/Python.framework/Versions/3.11/lib/python3.11/site-packages/seaborn/_oldcore.py:1498: FutureWarning: is_categorical_dtype is deprecated and will be removed in a future version. Use isinstance(dtype, CategoricalDtype) instead\n",
      "  if pd.api.types.is_categorical_dtype(vector):\n",
      "/Library/Frameworks/Python.framework/Versions/3.11/lib/python3.11/site-packages/seaborn/_oldcore.py:1498: FutureWarning: is_categorical_dtype is deprecated and will be removed in a future version. Use isinstance(dtype, CategoricalDtype) instead\n",
      "  if pd.api.types.is_categorical_dtype(vector):\n"
     ]
    },
    {
     "data": {
      "image/png": "[encoded data removed]",
      "text/plain": [
       "<Figure size 640x480 with 1 Axes>"
      ]
     },
     "metadata": {},
     "output_type": "display_data"
    }
   ],
   "source": [
    "veh_age_ax = sns.countplot(x='Vehicle_Age', hue='Response', data=data)\n",
    "\n",
    "# Setting the title and labels for the plot\n",
    "veh_age_ax.set_title('Response Distribution Based on Vehicle Age')\n",
    "veh_age_ax.set_xlabel('Vehicle Age')\n",
    "veh_age_ax.set_ylabel('Count')\n",
    "\n",
    "# Adding a legend\n",
    "veh_age_ax.legend(title='Response', loc='upper right')\n",
    "\n",
    "# Show the plot\n",
    "plt.show()"
   ]
  },
  {
   "cell_type": "markdown",
   "id": "ba6d456d",
   "metadata": {},
   "source": [
    "## Data Preparation for Model Training"
   ]
  },
  {
   "cell_type": "code",
   "execution_count": 19,
   "id": "cb8c4292",
   "metadata": {},
   "outputs": [
    {
     "name": "stdout",
     "output_type": "stream",
     "text": [
      "Training set shape: (70171, 10) (70171,)\n",
      "Validation set shape: (17543, 10) (17543,)\n"
     ]
    }
   ],
   "source": [
    "from sklearn.model_selection import train_test_split\n",
    "from imblearn.over_sampling import SMOTE\n",
    "\n",
    "X = data.drop('Response', axis=1)\n",
    "y = data['Response']\n",
    "\n",
    "smote = SMOTE()\n",
    "X_res, y_res = smote.fit_resample(X, y)\n",
    "\n",
    "X_train, X_validation, Y_train, Y_validation  = train_test_split(X_res, y_res, test_size=0.20, random_state=42)\n",
    "#--- Inspect data ---\n",
    "\n",
    "print(\"Training set shape:\", X_train.shape, Y_train.shape)\n",
    "print(\"Validation set shape:\", X_validation.shape, Y_validation.shape)"
   ]
  },
  {
   "cell_type": "markdown",
   "id": "f05a77df",
   "metadata": {},
   "source": [
    "## Model Training and Evaluation\n",
    "\n",
    "### K-Nearest Neighbors(KNN) Classifier model"
   ]
  },
  {
   "cell_type": "code",
   "execution_count": 20,
   "id": "e35d2b14",
   "metadata": {},
   "outputs": [
    {
     "name": "stdout",
     "output_type": "stream",
     "text": [
      "Accuracy: 0.7914267799122157\n",
      "Precision: 0.7263817764435812\n",
      "Recall: 0.9362694890178673\n",
      "F1 Score: 0.8180778600904888\n"
     ]
    }
   ],
   "source": [
    "from sklearn.neighbors import KNeighborsClassifier\n",
    "from sklearn.metrics import accuracy_score, precision_score, recall_score, f1_score\n",
    "\n",
    "# Train the KNN model\n",
    "knn = KNeighborsClassifier()\n",
    "knn.fit(X_train, Y_train)\n",
    "\n",
    "Y_pred = knn.predict(X_validation)\n",
    "\n",
    "accuracy = accuracy_score(Y_validation, Y_pred)\n",
    "precision = precision_score(Y_validation, Y_pred)\n",
    "recall = recall_score(Y_validation, Y_pred)\n",
    "f1 = f1_score(Y_validation, Y_pred)\n",
    "\n",
    "#--- Inspect data ---\n",
    "#accuracy,precision,recall,f1\n",
    "print(\"Accuracy:\", accuracy)\n",
    "print(\"Precision:\", precision)\n",
    "print(\"Recall:\", recall)\n",
    "print(\"F1 Score:\", f1)"
   ]
  },
  {
   "cell_type": "markdown",
   "id": "8dbf1fa7",
   "metadata": {},
   "source": [
    "### Decision Tree Model"
   ]
  },
  {
   "cell_type": "code",
   "execution_count": 22,
   "id": "6aa4b39e",
   "metadata": {},
   "outputs": [
    {
     "name": "stdout",
     "output_type": "stream",
     "text": [
      "Accuracy: 0.8628512797127059\n",
      "Precision: 0.8586846543001686\n",
      "Recall: 0.8692386480027313\n",
      "F1 Score: 0.8639294197488971\n"
     ]
    }
   ],
   "source": [
    "from sklearn.tree import DecisionTreeClassifier\n",
    "\n",
    "# Train the Decision Tree model\n",
    "decision_tree = DecisionTreeClassifier()\n",
    "decision_tree.fit(X_train, Y_train)\n",
    "Y_pred = decision_tree.predict(X_validation)\n",
    "\n",
    "accuracy = accuracy_score(Y_validation, Y_pred)\n",
    "precision = precision_score(Y_validation, Y_pred)\n",
    "recall = recall_score(Y_validation, Y_pred)\n",
    "f1 = f1_score(Y_validation, Y_pred)\n",
    "\n",
    "#--- Inspect data ---\n",
    "#accuracy,precision,recall,f1\n",
    "\n",
    "print(\"Accuracy:\", accuracy)\n",
    "print(\"Precision:\", precision)\n",
    "print(\"Recall:\", recall)\n",
    "print(\"F1 Score:\", f1)"
   ]
  },
  {
   "cell_type": "markdown",
   "id": "3bb6c321",
   "metadata": {},
   "source": [
    "### Extra Trees Classifier Model"
   ]
  },
  {
   "cell_type": "code",
   "execution_count": 23,
   "id": "9db82b0a",
   "metadata": {},
   "outputs": [
    {
     "name": "stdout",
     "output_type": "stream",
     "text": [
      "Accuracy: 0.8861654221056832\n",
      "Precision: 0.8577449947312961\n",
      "Recall: 0.9263684989188574\n",
      "F1 Score: 0.8907369918476774\n"
     ]
    }
   ],
   "source": [
    "from sklearn.ensemble import ExtraTreesClassifier\n",
    "\n",
    "# Train the Extra Trees Classifier\n",
    "extra_trees = ExtraTreesClassifier()\n",
    "extra_trees.fit(X_train, Y_train)\n",
    "\n",
    "Y_pred = extra_trees.predict(X_validation)\n",
    "\n",
    "accuracy = accuracy_score(Y_validation, Y_pred)\n",
    "precision = precision_score(Y_validation, Y_pred)\n",
    "recall = recall_score(Y_validation, Y_pred)\n",
    "f1 = f1_score(Y_validation, Y_pred)\n",
    "\n",
    "#--- Inspect data ---\n",
    "#accuracy,precision,recall,f1\n",
    "\n",
    "print(\"Accuracy:\", accuracy)\n",
    "print(\"Precision:\", precision)\n",
    "print(\"Recall:\", recall)\n",
    "print(\"F1 Score:\", f1)"
   ]
  },
  {
   "cell_type": "markdown",
   "id": "4bfa4989",
   "metadata": {},
   "source": [
    "### Gaussian Naive Bayes Model"
   ]
  },
  {
   "cell_type": "code",
   "execution_count": 24,
   "id": "afc814db",
   "metadata": {},
   "outputs": [
    {
     "name": "stdout",
     "output_type": "stream",
     "text": [
      "Accuracy: 0.7919968078435843\n",
      "Precision: 0.7388434362216437\n",
      "Recall: 0.904404233526801\n",
      "F1 Score: 0.8132835286291766\n"
     ]
    }
   ],
   "source": [
    "from sklearn.naive_bayes import GaussianNB\n",
    "\n",
    "\n",
    "gaussian_nb = GaussianNB()\n",
    "gaussian_nb.fit(X_train, Y_train)\n",
    "\n",
    "# Predict using the validation set\n",
    "Y_pred = gaussian_nb.predict(X_validation)\n",
    "\n",
    "accuracy = accuracy_score(Y_validation, Y_pred)\n",
    "precision = precision_score(Y_validation, Y_pred)\n",
    "recall = recall_score(Y_validation, Y_pred)\n",
    "f1 = f1_score(Y_validation, Y_pred)\n",
    "\n",
    "#--- Inspect data ---\n",
    "#accuracy,precision,recall,f1\n",
    "\n",
    "print(\"Accuracy:\", accuracy)\n",
    "print(\"Precision:\", precision)\n",
    "print(\"Recall:\", recall)\n",
    "print(\"F1 Score:\", f1)"
   ]
  },
  {
   "cell_type": "markdown",
   "id": "f97d2619",
   "metadata": {},
   "source": [
    "### Linear Discriminant Analysis Model"
   ]
  },
  {
   "cell_type": "code",
   "execution_count": 25,
   "id": "b147e575",
   "metadata": {},
   "outputs": [
    {
     "name": "stdout",
     "output_type": "stream",
     "text": [
      "Accuracy: 0.7731858861084193\n",
      "Precision: 0.6997673259099219\n",
      "Recall: 0.9583475588938204\n",
      "F1 Score: 0.8088948657605302\n"
     ]
    }
   ],
   "source": [
    "from sklearn.discriminant_analysis import LinearDiscriminantAnalysis\n",
    "\n",
    "# Train the LDA model\n",
    "lda = LinearDiscriminantAnalysis()\n",
    "lda.fit(X_train, Y_train)\n",
    "\n",
    "# Predict using the validation set\n",
    "Y_pred = lda.predict(X_validation)\n",
    "\n",
    "accuracy = accuracy_score(Y_validation, Y_pred)\n",
    "precision = precision_score(Y_validation, Y_pred)\n",
    "recall = recall_score(Y_validation, Y_pred)\n",
    "f1 = f1_score(Y_validation, Y_pred)\n",
    "\n",
    "#--- Inspect data ---\n",
    "#accuracy,precision,recall,f1\n",
    "\n",
    "print(\"Accuracy:\", accuracy)\n",
    "print(\"Precision:\", precision)\n",
    "print(\"Recall:\", recall)\n",
    "print(\"F1 Score:\", f1)"
   ]
  },
  {
   "cell_type": "markdown",
   "id": "6765de95",
   "metadata": {},
   "source": [
    "### Random Forest Classifier Model"
   ]
  },
  {
   "cell_type": "code",
   "execution_count": 26,
   "id": "0a6d2e0e",
   "metadata": {},
   "outputs": [
    {
     "name": "stdout",
     "output_type": "stream",
     "text": [
      "Accuracy: 0.8942598187311178\n",
      "Precision: 0.8741364421416234\n",
      "Recall: 0.9215887105951974\n",
      "F1 Score: 0.8972356102155004\n"
     ]
    }
   ],
   "source": [
    "from sklearn.ensemble import RandomForestClassifier\n",
    "\n",
    "# Train the Random Forest Classifier with 100 trees and a maximum of 3 features\n",
    "random_forest = RandomForestClassifier(n_estimators=100, max_features=3)\n",
    "random_forest.fit(X_train, Y_train)\n",
    "\n",
    "# Predict using the validation set\n",
    "Y_pred = random_forest.predict(X_validation)\n",
    "\n",
    "accuracy = accuracy_score(Y_validation, Y_pred)\n",
    "precision = precision_score(Y_validation, Y_pred)\n",
    "recall = recall_score(Y_validation, Y_pred)\n",
    "f1 = f1_score(Y_validation, Y_pred)\n",
    "\n",
    "#--- Inspect data ---\n",
    "#accuracy,precision,recall,f1\n",
    "\n",
    "print(\"Accuracy:\", accuracy)\n",
    "print(\"Precision:\", precision)\n",
    "print(\"Recall:\", recall)\n",
    "print(\"F1 Score:\", f1)"
   ]
  },
  {
   "cell_type": "markdown",
   "id": "747c7b39",
   "metadata": {},
   "source": [
    "## Evaluating Model Performance on Validation Data"
   ]
  },
  {
   "cell_type": "code",
   "execution_count": 27,
   "id": "ca34156b",
   "metadata": {},
   "outputs": [
    {
     "name": "stdout",
     "output_type": "stream",
     "text": [
      "Accuracy: 0.8942598187311178\n",
      "\n",
      "Confusion Matrix:\n",
      " [[7590 1166]\n",
      " [ 689 8098]]\n",
      "\n",
      "Classification Report:\n",
      "               precision    recall  f1-score   support\n",
      "\n",
      "           0       0.92      0.87      0.89      8756\n",
      "           1       0.87      0.92      0.90      8787\n",
      "\n",
      "    accuracy                           0.89     17543\n",
      "   macro avg       0.90      0.89      0.89     17543\n",
      "weighted avg       0.90      0.89      0.89     17543\n",
      "\n"
     ]
    }
   ],
   "source": [
    "from sklearn.metrics import accuracy_score, confusion_matrix, classification_report\n",
    "\n",
    "# --- WRITE YOUR CODE FOR MODULE 4 TASK 8 ---\n",
    "y_pred = random_forest.predict(X_validation)\n",
    "accuracy = accuracy_score(Y_validation, y_pred)\n",
    "\n",
    "cm = confusion_matrix(Y_validation, y_pred)\n",
    "\n",
    "cr = classification_report(Y_validation, y_pred)\n",
    "\n",
    "#--- Inspect data ---\n",
    "\n",
    "print(\"Accuracy:\", accuracy)\n",
    "print(\"\\nConfusion Matrix:\\n\", cm)\n",
    "print(\"\\nClassification Report:\\n\", cr)"
   ]
  },
  {
   "cell_type": "code",
   "execution_count": 28,
   "id": "9ebc5f91",
   "metadata": {},
   "outputs": [],
   "source": [
    "## Predicting Income Class on New Data"
   ]
  },
  {
   "cell_type": "code",
   "execution_count": 29,
   "id": "2df999ec",
   "metadata": {},
   "outputs": [
    {
     "name": "stdout",
     "output_type": "stream",
     "text": [
      "Predicted Response: 1\n"
     ]
    }
   ],
   "source": [
    "sample_data = pd.DataFrame([[1, 44, 1, 28.0, 0, 3, 1, 40454.0, 26.0, 217]],\n",
    "                     columns=['Gender', 'Age', 'Driving_License', 'Region_Code', 'Previously_Insured',\n",
    "                              'Vehicle_Age', 'Vehicle_Damage', 'Annual_Premium', 'Policy_Sales_Channel', 'Vintage'])\n",
    "\n",
    "prediction = random_forest.predict(sample_data)\n",
    "\n",
    "#--- Inspect data ---\n",
    "\n",
    "# Print the prediction\n",
    "print(\"Predicted Response:\", prediction[0])"
   ]
  }
 ],
 "metadata": {
  "kernelspec": {
   "display_name": "Python 3 (ipykernel)",
   "language": "python",
   "name": "python3"
  },
  "language_info": {
   "codemirror_mode": {
    "name": "ipython",
    "version": 3
   },
   "file_extension": ".py",
   "mimetype": "text/x-python",
   "name": "python",
   "nbconvert_exporter": "python",
   "pygments_lexer": "ipython3",
   "version": "3.11.4"
  }
 },
 "nbformat": 4,
 "nbformat_minor": 5
}
